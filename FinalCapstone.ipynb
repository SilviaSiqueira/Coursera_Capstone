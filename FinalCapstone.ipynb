{
    "nbformat_minor": 1, 
    "cells": [
        {
            "source": "This project is to find a Chinese restaurant in New York.", 
            "cell_type": "markdown", 
            "metadata": {
                "collapsed": true
            }
        }, 
        {
            "execution_count": 1, 
            "cell_type": "code", 
            "metadata": {}, 
            "outputs": [
                {
                    "output_type": "stream", 
                    "name": "stdout", 
                    "text": "Solving environment: done\n\n## Package Plan ##\n\n  environment location: /opt/conda/envs/DSX-Python35\n\n  added / updated specs: \n    - geopy\n\n\nThe following packages will be downloaded:\n\n    package                    |            build\n    ---------------------------|-----------------\n    geopy-1.20.0               |             py_0          57 KB  conda-forge\n    geographiclib-1.49         |             py_0          32 KB  conda-forge\n    ca-certificates-2019.3.9   |       hecc5488_0         146 KB  conda-forge\n    certifi-2018.8.24          |        py35_1001         139 KB  conda-forge\n    openssl-1.0.2r             |       h14c3975_0         3.1 MB  conda-forge\n    ------------------------------------------------------------\n                                           Total:         3.5 MB\n\nThe following NEW packages will be INSTALLED:\n\n    geographiclib:   1.49-py_0         conda-forge\n    geopy:           1.20.0-py_0       conda-forge\n\nThe following packages will be UPDATED:\n\n    ca-certificates: 2019.1.23-0                   --> 2019.3.9-hecc5488_0 conda-forge\n    certifi:         2018.8.24-py35_1              --> 2018.8.24-py35_1001 conda-forge\n    openssl:         1.0.2r-h7b6447c_0             --> 1.0.2r-h14c3975_0   conda-forge\n\n\nDownloading and Extracting Packages\ngeopy-1.20.0         | 57 KB     | ##################################### | 100% \ngeographiclib-1.49   | 32 KB     | ##################################### | 100% \nca-certificates-2019 | 146 KB    | ##################################### | 100% \ncertifi-2018.8.24    | 139 KB    | ##################################### | 100% \nopenssl-1.0.2r       | 3.1 MB    | ##################################### | 100% \nPreparing transaction: done\nVerifying transaction: done\nExecuting transaction: done\nSolving environment: done\n\n## Package Plan ##\n\n  environment location: /opt/conda/envs/DSX-Python35\n\n  added / updated specs: \n    - folium=0.5.0\n\n\nThe following packages will be downloaded:\n\n    package                    |            build\n    ---------------------------|-----------------\n    branca-0.3.1               |             py_0          25 KB  conda-forge\n    folium-0.5.0               |             py_0          45 KB  conda-forge\n    vincent-0.4.4              |             py_1          28 KB  conda-forge\n    altair-2.2.2               |           py35_1         462 KB  conda-forge\n    ------------------------------------------------------------\n                                           Total:         560 KB\n\nThe following NEW packages will be INSTALLED:\n\n    altair:  2.2.2-py35_1 conda-forge\n    branca:  0.3.1-py_0   conda-forge\n    folium:  0.5.0-py_0   conda-forge\n    vincent: 0.4.4-py_1   conda-forge\n\n\nDownloading and Extracting Packages\nbranca-0.3.1         | 25 KB     | ##################################### | 100% \nfolium-0.5.0         | 45 KB     | ##################################### | 100% \nvincent-0.4.4        | 28 KB     | ##################################### | 100% \naltair-2.2.2         | 462 KB    | ##################################### | 100% \nPreparing transaction: done\nVerifying transaction: done\nExecuting transaction: done\nFolium installed\nLibraries imported.\n"
                }
            ], 
            "source": "import requests \nimport pandas as pd\nimport numpy as np \nimport random\n\n!conda install -c conda-forge geopy --yes \nfrom geopy.geocoders import Nominatim \n\n\nfrom IPython.display import Image \nfrom IPython.core.display import HTML \n    \n\nfrom pandas.io.json import json_normalize\n\n!conda install -c conda-forge folium=0.5.0 --yes\nimport folium \n\nprint('Folium installed')\nprint('Libraries imported.')\n\n"
        }, 
        {
            "execution_count": 26, 
            "cell_type": "code", 
            "metadata": {}, 
            "outputs": [
                {
                    "output_type": "stream", 
                    "name": "stdout", 
                    "text": "Your credentails:\nCLIENT_ID: \nCLIENT_SECRET:\n"
                }
            ], 
            "source": "CLIENT_ID = '' \nCLIENT_SECRET = ''\nVERSION = '20180604'\nLIMIT = 30\nprint('Your credentails:')\nprint('CLIENT_ID: ' + CLIENT_ID)\nprint('CLIENT_SECRET:' + CLIENT_SECRET)"
        }, 
        {
            "execution_count": 3, 
            "cell_type": "code", 
            "metadata": {}, 
            "outputs": [
                {
                    "output_type": "stream", 
                    "name": "stdout", 
                    "text": "40.7149555 -74.0153365\n"
                }
            ], 
            "source": "address = '102 North End Ave, New York, NY'\n\ngeolocator = Nominatim(user_agent=\"foursquare_agent\")\nlocation = geolocator.geocode(address)\nlatitude = location.latitude\nlongitude = location.longitude\nprint(latitude, longitude)"
        }, 
        {
            "execution_count": 15, 
            "cell_type": "code", 
            "metadata": {}, 
            "outputs": [
                {
                    "output_type": "stream", 
                    "name": "stdout", 
                    "text": "Chinese .... OK!\n"
                }
            ], 
            "source": "search_query = 'Chinese'\nradius = 500\nprint(search_query + ' .... OK!')"
        }, 
        {
            "execution_count": 16, 
            "cell_type": "code", 
            "metadata": {}, 
            "outputs": [
                {
                    "execution_count": 16, 
                    "metadata": {}, 
                    "data": {
                        "text/plain": "'https://api.foursquare.com/v2/venues/search?client_id=DETZL1BXN53YS30ZRFEPNCIJVKI3HV4C2JPMEGNRZOKL2AO5&client_secret=AO0GW1METSYLHYK4SKOR2GPGTZUBY2TM3X2DUE1VWG2PRTB5&ll=40.7149555,-74.0153365&v=20180604&query=Chinese&radius=500&limit=30'"
                    }, 
                    "output_type": "execute_result"
                }
            ], 
            "source": "url = 'https://api.foursquare.com/v2/venues/search?client_id={}&client_secret={}&ll={},{}&v={}&query={}&radius={}&limit={}'.format(CLIENT_ID, CLIENT_SECRET, latitude, longitude, VERSION, search_query, radius, LIMIT)\nurl"
        }, 
        {
            "execution_count": 17, 
            "cell_type": "code", 
            "metadata": {}, 
            "outputs": [
                {
                    "execution_count": 17, 
                    "metadata": {}, 
                    "data": {
                        "text/plain": "{'meta': {'code': 200, 'requestId': '5cf465cc4434b92169286dd7'},\n 'response': {'venues': [{'categories': [{'icon': {'prefix': 'https://ss3.4sqi.net/img/categories_v2/food/streetfood_',\n       'suffix': '.png'},\n      'id': '4bf58dd8d48988d1cb941735',\n      'name': 'Food Truck',\n      'pluralName': 'Food Trucks',\n      'primary': True,\n      'shortName': 'Food Truck'}],\n    'hasPerk': False,\n    'id': '51c87762498e29ad0293dab1',\n    'location': {'cc': 'US',\n     'city': 'New York',\n     'country': 'United States',\n     'distance': 173,\n     'formattedAddress': ['New York, NY', 'United States'],\n     'labeledLatLngs': [{'label': 'display',\n       'lat': 40.713732,\n       'lng': -74.016616}],\n     'lat': 40.713732,\n     'lng': -74.016616,\n     'state': 'NY'},\n    'name': 'Chinese Mirch (WTC Truck)',\n    'referralId': 'v-1559520716'}]}}"
                    }, 
                    "output_type": "execute_result"
                }
            ], 
            "source": "results = requests.get(url).json()\nresults"
        }, 
        {
            "execution_count": 18, 
            "cell_type": "code", 
            "metadata": {}, 
            "outputs": [], 
            "source": "venues = results['response']['venues']"
        }, 
        {
            "execution_count": 19, 
            "cell_type": "code", 
            "metadata": {}, 
            "outputs": [
                {
                    "execution_count": 19, 
                    "metadata": {}, 
                    "data": {
                        "text/html": "<div>\n<style scoped>\n    .dataframe tbody tr th:only-of-type {\n        vertical-align: middle;\n    }\n\n    .dataframe tbody tr th {\n        vertical-align: top;\n    }\n\n    .dataframe thead th {\n        text-align: right;\n    }\n</style>\n<table border=\"1\" class=\"dataframe\">\n  <thead>\n    <tr style=\"text-align: right;\">\n      <th></th>\n      <th>categories</th>\n      <th>hasPerk</th>\n      <th>id</th>\n      <th>location.cc</th>\n      <th>location.city</th>\n      <th>location.country</th>\n      <th>location.distance</th>\n      <th>location.formattedAddress</th>\n      <th>location.labeledLatLngs</th>\n      <th>location.lat</th>\n      <th>location.lng</th>\n      <th>location.state</th>\n      <th>name</th>\n      <th>referralId</th>\n    </tr>\n  </thead>\n  <tbody>\n    <tr>\n      <th>0</th>\n      <td>[{'name': 'Food Truck', 'shortName': 'Food Tru...</td>\n      <td>False</td>\n      <td>51c87762498e29ad0293dab1</td>\n      <td>US</td>\n      <td>New York</td>\n      <td>United States</td>\n      <td>173</td>\n      <td>[New York, NY, United States]</td>\n      <td>[{'lng': -74.016616, 'label': 'display', 'lat'...</td>\n      <td>40.713732</td>\n      <td>-74.016616</td>\n      <td>NY</td>\n      <td>Chinese Mirch (WTC Truck)</td>\n      <td>v-1559520716</td>\n    </tr>\n  </tbody>\n</table>\n</div>", 
                        "text/plain": "                                          categories  hasPerk  \\\n0  [{'name': 'Food Truck', 'shortName': 'Food Tru...    False   \n\n                         id location.cc location.city location.country  \\\n0  51c87762498e29ad0293dab1          US      New York    United States   \n\n   location.distance      location.formattedAddress  \\\n0                173  [New York, NY, United States]   \n\n                             location.labeledLatLngs  location.lat  \\\n0  [{'lng': -74.016616, 'label': 'display', 'lat'...     40.713732   \n\n   location.lng location.state                       name    referralId  \n0    -74.016616             NY  Chinese Mirch (WTC Truck)  v-1559520716  "
                    }, 
                    "output_type": "execute_result"
                }
            ], 
            "source": "dataframe = json_normalize(venues)\ndataframe.head()"
        }, 
        {
            "execution_count": 20, 
            "cell_type": "code", 
            "metadata": {}, 
            "outputs": [
                {
                    "execution_count": 20, 
                    "metadata": {}, 
                    "data": {
                        "text/html": "<div>\n<style scoped>\n    .dataframe tbody tr th:only-of-type {\n        vertical-align: middle;\n    }\n\n    .dataframe tbody tr th {\n        vertical-align: top;\n    }\n\n    .dataframe thead th {\n        text-align: right;\n    }\n</style>\n<table border=\"1\" class=\"dataframe\">\n  <thead>\n    <tr style=\"text-align: right;\">\n      <th></th>\n      <th>name</th>\n      <th>categories</th>\n      <th>cc</th>\n      <th>city</th>\n      <th>country</th>\n      <th>distance</th>\n      <th>formattedAddress</th>\n      <th>labeledLatLngs</th>\n      <th>lat</th>\n      <th>lng</th>\n      <th>state</th>\n      <th>id</th>\n    </tr>\n  </thead>\n  <tbody>\n    <tr>\n      <th>0</th>\n      <td>Chinese Mirch (WTC Truck)</td>\n      <td>Food Truck</td>\n      <td>US</td>\n      <td>New York</td>\n      <td>United States</td>\n      <td>173</td>\n      <td>[New York, NY, United States]</td>\n      <td>[{'lng': -74.016616, 'label': 'display', 'lat'...</td>\n      <td>40.713732</td>\n      <td>-74.016616</td>\n      <td>NY</td>\n      <td>51c87762498e29ad0293dab1</td>\n    </tr>\n  </tbody>\n</table>\n</div>", 
                        "text/plain": "                        name  categories  cc      city        country  \\\n0  Chinese Mirch (WTC Truck)  Food Truck  US  New York  United States   \n\n   distance               formattedAddress  \\\n0       173  [New York, NY, United States]   \n\n                                      labeledLatLngs        lat        lng  \\\n0  [{'lng': -74.016616, 'label': 'display', 'lat'...  40.713732 -74.016616   \n\n  state                        id  \n0    NY  51c87762498e29ad0293dab1  "
                    }, 
                    "output_type": "execute_result"
                }
            ], 
            "source": "filtered_columns = ['name', 'categories'] + [col for col in dataframe.columns if col.startswith('location.')] + ['id']\ndataframe_filtered = dataframe.loc[:, filtered_columns]\n\ndef get_category_type(row):\n    try:\n        categories_list = row['categories']\n    except:\n        categories_list = row['venue.categories']\n        \n    if len(categories_list) == 0:\n        return None\n    else:\n        return categories_list[0]['name']\n\ndataframe_filtered['categories'] = dataframe_filtered.apply(get_category_type, axis=1)\n\ndataframe_filtered.columns = [column.split('.')[-1] for column in dataframe_filtered.columns]\n\ndataframe_filtered"
        }, 
        {
            "execution_count": 21, 
            "cell_type": "code", 
            "metadata": {}, 
            "outputs": [
                {
                    "execution_count": 21, 
                    "metadata": {}, 
                    "data": {
                        "text/html": "<div style=\"width:100%;\"><div style=\"position:relative;width:100%;height:0;padding-bottom:60%;\"><iframe src=\"data:text/html;charset=utf-8;base64,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\" style=\"position:absolute;width:100%;height:100%;left:0;top:0;border:none !important;\" allowfullscreen webkitallowfullscreen mozallowfullscreen></iframe></div></div>", 
                        "text/plain": "<folium.folium.Map at 0x7fb5cc460b00>"
                    }, 
                    "output_type": "execute_result"
                }
            ], 
            "source": "dataframe_filtered.name\n\nvenues_map = folium.Map(location=[latitude, longitude], zoom_start=13)\n\nfolium.features.CircleMarker(\n    [latitude, longitude],\n    radius=10,\n    color='red',\n    popup='Conrad Hotel',\n    fill = True,\n    fill_color = 'red',\n    fill_opacity = 0.6\n).add_to(venues_map)\n\nfor lat, lng, label in zip(dataframe_filtered.lat, dataframe_filtered.lng, dataframe_filtered.categories):\n    folium.features.CircleMarker(\n        [lat, lng],\n        radius=5,\n        color='blue',\n        popup=label,\n        fill = True,\n        fill_color='blue',\n        fill_opacity=0.6\n    ).add_to(venues_map)\n\nvenues_map"
        }, 
        {
            "source": "venue_id = '51c87762498e29ad0293dab1'\nurl = 'https://api.foursquare.com/v2/venues/{}?client_id={}&client_secret={}&v={}'.format(venue_id, CLIENT_ID, CLIENT_SECRET, VERSION)\nurl\n", 
            "cell_type": "markdown", 
            "metadata": {}
        }, 
        {
            "execution_count": 25, 
            "cell_type": "code", 
            "metadata": {}, 
            "outputs": [
                {
                    "output_type": "stream", 
                    "name": "stdout", 
                    "text": "This venue has not been rated yet.\n"
                }
            ], 
            "source": "try:\n    print(result['response']['venue']['rating'])\nexcept:\n    print('This venue has not been rated yet.')\n\n"
        }, 
        {
            "source": "The venue has not been rated but it is the only option I found in the area!", 
            "cell_type": "markdown", 
            "metadata": {}
        }, 
        {
            "execution_count": null, 
            "cell_type": "code", 
            "metadata": {}, 
            "outputs": [], 
            "source": ""
        }
    ], 
    "metadata": {
        "kernelspec": {
            "display_name": "Python 3.5", 
            "name": "python3", 
            "language": "python"
        }, 
        "language_info": {
            "mimetype": "text/x-python", 
            "nbconvert_exporter": "python", 
            "version": "3.5.5", 
            "name": "python", 
            "file_extension": ".py", 
            "pygments_lexer": "ipython3", 
            "codemirror_mode": {
                "version": 3, 
                "name": "ipython"
            }
        }
    }, 
    "nbformat": 4
}