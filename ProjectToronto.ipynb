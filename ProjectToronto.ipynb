{
    "nbformat_minor": 1, 
    "cells": [
        {
            "execution_count": 30, 
            "cell_type": "code", 
            "metadata": {}, 
            "outputs": [
                {
                    "execution_count": 30, 
                    "metadata": {}, 
                    "data": {
                        "text/html": "<div>\n<style scoped>\n    .dataframe tbody tr th:only-of-type {\n        vertical-align: middle;\n    }\n\n    .dataframe tbody tr th {\n        vertical-align: top;\n    }\n\n    .dataframe thead th {\n        text-align: right;\n    }\n</style>\n<table border=\"1\" class=\"dataframe\">\n  <thead>\n    <tr style=\"text-align: right;\">\n      <th></th>\n      <th>VAR00001</th>\n      <th>VAR00002</th>\n      <th>VAR00003</th>\n    </tr>\n  </thead>\n  <tbody>\n    <tr>\n      <th>0</th>\n      <td>M1A</td>\n      <td>Not assigned</td>\n      <td>Not assigned</td>\n    </tr>\n    <tr>\n      <th>1</th>\n      <td>M2A</td>\n      <td>Not assigned</td>\n      <td>Not assigned</td>\n    </tr>\n    <tr>\n      <th>2</th>\n      <td>M3A</td>\n      <td>North York</td>\n      <td>Parkwoods</td>\n    </tr>\n    <tr>\n      <th>3</th>\n      <td>M4A</td>\n      <td>North York</td>\n      <td>Victoria Village</td>\n    </tr>\n    <tr>\n      <th>4</th>\n      <td>M5A</td>\n      <td>Downtown Toronto</td>\n      <td>Harbourfront</td>\n    </tr>\n  </tbody>\n</table>\n</div>", 
                        "text/plain": "  VAR00001          VAR00002          VAR00003\n0      M1A      Not assigned      Not assigned\n1      M2A      Not assigned      Not assigned\n2      M3A        North York         Parkwoods\n3      M4A        North York  Victoria Village\n4      M5A  Downtown Toronto      Harbourfront"
                    }, 
                    "output_type": "execute_result"
                }
            ], 
            "source": "# The code was removed by Watson Studio for sharing."
        }, 
        {
            "execution_count": 31, 
            "cell_type": "code", 
            "metadata": {}, 
            "outputs": [], 
            "source": "import pandas as pd\nimport numpy as np\nimport requests\nimport random\nfrom sklearn.cluster import KMeans "
        }, 
        {
            "source": "Column names were changed to PostaCode, Borough, Neighborhood", 
            "cell_type": "markdown", 
            "metadata": {}
        }, 
        {
            "execution_count": 32, 
            "cell_type": "code", 
            "metadata": {}, 
            "outputs": [], 
            "source": "\n\ndf = df_canada.rename(columns={'VAR00001':'PostalCode', 'VAR00002':'Borough', 'VAR00003':'Neighborhood'})\n"
        }, 
        {
            "source": "Remove Not assigned Borough", 
            "cell_type": "markdown", 
            "metadata": {}
        }, 
        {
            "execution_count": 33, 
            "cell_type": "code", 
            "metadata": {}, 
            "outputs": [], 
            "source": "df.drop(df[df['Borough']==\"Not assigned\"].index,axis=0, inplace=True)"
        }, 
        {
            "execution_count": 48, 
            "cell_type": "code", 
            "metadata": {}, 
            "outputs": [
                {
                    "execution_count": 48, 
                    "metadata": {}, 
                    "data": {
                        "text/html": "<div>\n<style scoped>\n    .dataframe tbody tr th:only-of-type {\n        vertical-align: middle;\n    }\n\n    .dataframe tbody tr th {\n        vertical-align: top;\n    }\n\n    .dataframe thead th {\n        text-align: right;\n    }\n</style>\n<table border=\"1\" class=\"dataframe\">\n  <thead>\n    <tr style=\"text-align: right;\">\n      <th></th>\n      <th>PostalCode</th>\n      <th>Borough</th>\n      <th>Neighborhood</th>\n    </tr>\n  </thead>\n  <tbody>\n    <tr>\n      <th>2</th>\n      <td>M3A</td>\n      <td>North York</td>\n      <td>Parkwoods</td>\n    </tr>\n    <tr>\n      <th>3</th>\n      <td>M4A</td>\n      <td>North York</td>\n      <td>Victoria Village</td>\n    </tr>\n    <tr>\n      <th>4</th>\n      <td>M5A</td>\n      <td>Downtown Toronto</td>\n      <td>Harbourfront</td>\n    </tr>\n    <tr>\n      <th>5</th>\n      <td>M5A</td>\n      <td>Downtown Toronto</td>\n      <td>Regent Park</td>\n    </tr>\n    <tr>\n      <th>6</th>\n      <td>M6A</td>\n      <td>North York</td>\n      <td>Lawrence Heights</td>\n    </tr>\n  </tbody>\n</table>\n</div>", 
                        "text/plain": "  PostalCode           Borough      Neighborhood\n2        M3A        North York         Parkwoods\n3        M4A        North York  Victoria Village\n4        M5A  Downtown Toronto      Harbourfront\n5        M5A  Downtown Toronto       Regent Park\n6        M6A        North York  Lawrence Heights"
                    }, 
                    "output_type": "execute_result"
                }
            ], 
            "source": "df.head(5)"
        }, 
        {
            "source": "Substituting not assigned neighborhoods with the name of borough", 
            "cell_type": "markdown", 
            "metadata": {}
        }, 
        {
            "execution_count": 44, 
            "cell_type": "code", 
            "metadata": {}, 
            "outputs": [], 
            "source": "df1 = df.loc[df['Neighborhood']==\"Not assigned\",'Neighborhood']=df.loc[df['Neighborhood']==\"Not assigned\",'Borough']"
        }, 
        {
            "source": "Joining Rows with the same Borough", 
            "cell_type": "markdown", 
            "metadata": {}
        }, 
        {
            "execution_count": 49, 
            "cell_type": "code", 
            "metadata": {}, 
            "outputs": [], 
            "source": "df2=df.groupby(df['PostalCode']).agg(lambda x:','.join(set(x)))"
        }, 
        {
            "execution_count": 50, 
            "cell_type": "code", 
            "metadata": {}, 
            "outputs": [
                {
                    "execution_count": 50, 
                    "metadata": {}, 
                    "data": {
                        "text/html": "<div>\n<style scoped>\n    .dataframe tbody tr th:only-of-type {\n        vertical-align: middle;\n    }\n\n    .dataframe tbody tr th {\n        vertical-align: top;\n    }\n\n    .dataframe thead th {\n        text-align: right;\n    }\n</style>\n<table border=\"1\" class=\"dataframe\">\n  <thead>\n    <tr style=\"text-align: right;\">\n      <th></th>\n      <th>Borough</th>\n      <th>Neighborhood</th>\n    </tr>\n    <tr>\n      <th>PostalCode</th>\n      <th></th>\n      <th></th>\n    </tr>\n  </thead>\n  <tbody>\n    <tr>\n      <th>M1B</th>\n      <td>Scarborough</td>\n      <td>Rouge,Malvern</td>\n    </tr>\n    <tr>\n      <th>M1C</th>\n      <td>Scarborough</td>\n      <td>Port Union,Rouge Hill,Highland Creek</td>\n    </tr>\n    <tr>\n      <th>M1E</th>\n      <td>Scarborough</td>\n      <td>West Hill,Guildwood,Morningside</td>\n    </tr>\n    <tr>\n      <th>M1G</th>\n      <td>Scarborough</td>\n      <td>Woburn</td>\n    </tr>\n    <tr>\n      <th>M1H</th>\n      <td>Scarborough</td>\n      <td>Cedarbrae</td>\n    </tr>\n    <tr>\n      <th>M1J</th>\n      <td>Scarborough</td>\n      <td>Scarborough Village</td>\n    </tr>\n    <tr>\n      <th>M1K</th>\n      <td>Scarborough</td>\n      <td>Ionview,East Birchmount Park,Kennedy Park</td>\n    </tr>\n    <tr>\n      <th>M1L</th>\n      <td>Scarborough</td>\n      <td>Clairlea,Golden Mile,Oakridge</td>\n    </tr>\n    <tr>\n      <th>M1M</th>\n      <td>Scarborough</td>\n      <td>Cliffside,Cliffcrest,Scarborough Village West</td>\n    </tr>\n    <tr>\n      <th>M1N</th>\n      <td>Scarborough</td>\n      <td>Birch Cliff,Cliffside West</td>\n    </tr>\n    <tr>\n      <th>M1P</th>\n      <td>Scarborough</td>\n      <td>Dorset Park,Wexford Heights,Scarborough Town C...</td>\n    </tr>\n    <tr>\n      <th>M1R</th>\n      <td>Scarborough</td>\n      <td>Wexford,Maryvale</td>\n    </tr>\n    <tr>\n      <th>M1S</th>\n      <td>Scarborough</td>\n      <td>Agincourt</td>\n    </tr>\n    <tr>\n      <th>M1T</th>\n      <td>Scarborough</td>\n      <td>Tam O'Shanter,Sullivan,Clarks Corners</td>\n    </tr>\n    <tr>\n      <th>M1V</th>\n      <td>Scarborough</td>\n      <td>Milliken,L'Amoreaux East,Agincourt North,Steel...</td>\n    </tr>\n    <tr>\n      <th>M1W</th>\n      <td>Scarborough</td>\n      <td>L'Amoreaux West</td>\n    </tr>\n    <tr>\n      <th>M1X</th>\n      <td>Scarborough</td>\n      <td>Upper Rouge</td>\n    </tr>\n    <tr>\n      <th>M2H</th>\n      <td>North York</td>\n      <td>Hillcrest Village</td>\n    </tr>\n    <tr>\n      <th>M2J</th>\n      <td>North York</td>\n      <td>Henry Farm,Oriole,Fairview</td>\n    </tr>\n    <tr>\n      <th>M2K</th>\n      <td>North York</td>\n      <td>Bayview Village</td>\n    </tr>\n  </tbody>\n</table>\n</div>", 
                        "text/plain": "                Borough                                       Neighborhood\nPostalCode                                                                \nM1B         Scarborough                                      Rouge,Malvern\nM1C         Scarborough               Port Union,Rouge Hill,Highland Creek\nM1E         Scarborough                    West Hill,Guildwood,Morningside\nM1G         Scarborough                                             Woburn\nM1H         Scarborough                                          Cedarbrae\nM1J         Scarborough                                Scarborough Village\nM1K         Scarborough          Ionview,East Birchmount Park,Kennedy Park\nM1L         Scarborough                      Clairlea,Golden Mile,Oakridge\nM1M         Scarborough      Cliffside,Cliffcrest,Scarborough Village West\nM1N         Scarborough                         Birch Cliff,Cliffside West\nM1P         Scarborough  Dorset Park,Wexford Heights,Scarborough Town C...\nM1R         Scarborough                                   Wexford,Maryvale\nM1S         Scarborough                                          Agincourt\nM1T         Scarborough              Tam O'Shanter,Sullivan,Clarks Corners\nM1V         Scarborough  Milliken,L'Amoreaux East,Agincourt North,Steel...\nM1W         Scarborough                                    L'Amoreaux West\nM1X         Scarborough                                        Upper Rouge\nM2H          North York                                  Hillcrest Village\nM2J          North York                         Henry Farm,Oriole,Fairview\nM2K          North York                                    Bayview Village"
                    }, 
                    "output_type": "execute_result"
                }
            ], 
            "source": "df2.head(20)"
        }, 
        {
            "execution_count": 51, 
            "cell_type": "code", 
            "metadata": {}, 
            "outputs": [
                {
                    "execution_count": 51, 
                    "metadata": {}, 
                    "data": {
                        "text/plain": "(103, 2)"
                    }, 
                    "output_type": "execute_result"
                }
            ], 
            "source": "df2.shape"
        }, 
        {
            "execution_count": 52, 
            "cell_type": "code", 
            "metadata": {}, 
            "outputs": [
                {
                    "execution_count": 52, 
                    "metadata": {}, 
                    "data": {
                        "text/html": "<div>\n<style scoped>\n    .dataframe tbody tr th:only-of-type {\n        vertical-align: middle;\n    }\n\n    .dataframe tbody tr th {\n        vertical-align: top;\n    }\n\n    .dataframe thead th {\n        text-align: right;\n    }\n</style>\n<table border=\"1\" class=\"dataframe\">\n  <thead>\n    <tr style=\"text-align: right;\">\n      <th></th>\n      <th>Postal Code</th>\n      <th>Latitude</th>\n      <th>Longitude</th>\n    </tr>\n  </thead>\n  <tbody>\n    <tr>\n      <th>0</th>\n      <td>M1B</td>\n      <td>43.806686</td>\n      <td>-79.194353</td>\n    </tr>\n    <tr>\n      <th>1</th>\n      <td>M1C</td>\n      <td>43.784535</td>\n      <td>-79.160497</td>\n    </tr>\n    <tr>\n      <th>2</th>\n      <td>M1E</td>\n      <td>43.763573</td>\n      <td>-79.188711</td>\n    </tr>\n    <tr>\n      <th>3</th>\n      <td>M1G</td>\n      <td>43.770992</td>\n      <td>-79.216917</td>\n    </tr>\n    <tr>\n      <th>4</th>\n      <td>M1H</td>\n      <td>43.773136</td>\n      <td>-79.239476</td>\n    </tr>\n  </tbody>\n</table>\n</div>", 
                        "text/plain": "  Postal Code   Latitude  Longitude\n0         M1B  43.806686 -79.194353\n1         M1C  43.784535 -79.160497\n2         M1E  43.763573 -79.188711\n3         M1G  43.770992 -79.216917\n4         M1H  43.773136 -79.239476"
                    }, 
                    "output_type": "execute_result"
                }
            ], 
            "source": "\nbody = client_66e88c0fdc5e4d5b9e0e624f027bee86.get_object(Bucket='courseracapstone1-donotdelete-pr-43n9eddoanbh2n',Key='Geospatial_Coordinates.csv')['Body']\n# add missing __iter__ method, so pandas accepts body as file-like object\nif not hasattr(body, \"__iter__\"): body.__iter__ = types.MethodType( __iter__, body )\n\ndf_data_1 = pd.read_csv(body)\ndf_data_1.head()\n\n"
        }, 
        {
            "source": "Merge data from Toronto with latitude and longitude information", 
            "cell_type": "markdown", 
            "metadata": {}
        }, 
        {
            "execution_count": 53, 
            "cell_type": "code", 
            "metadata": {}, 
            "outputs": [], 
            "source": "df3 =df_data_1.rename(columns={'Postal Code':'PostalCode'})\n"
        }, 
        {
            "execution_count": 55, 
            "cell_type": "code", 
            "metadata": {}, 
            "outputs": [
                {
                    "execution_count": 55, 
                    "metadata": {}, 
                    "data": {
                        "text/html": "<div>\n<style scoped>\n    .dataframe tbody tr th:only-of-type {\n        vertical-align: middle;\n    }\n\n    .dataframe tbody tr th {\n        vertical-align: top;\n    }\n\n    .dataframe thead th {\n        text-align: right;\n    }\n</style>\n<table border=\"1\" class=\"dataframe\">\n  <thead>\n    <tr style=\"text-align: right;\">\n      <th></th>\n      <th>PostalCode</th>\n      <th>Latitude</th>\n      <th>Longitude</th>\n    </tr>\n  </thead>\n  <tbody>\n    <tr>\n      <th>0</th>\n      <td>M1B</td>\n      <td>43.806686</td>\n      <td>-79.194353</td>\n    </tr>\n    <tr>\n      <th>1</th>\n      <td>M1C</td>\n      <td>43.784535</td>\n      <td>-79.160497</td>\n    </tr>\n    <tr>\n      <th>2</th>\n      <td>M1E</td>\n      <td>43.763573</td>\n      <td>-79.188711</td>\n    </tr>\n    <tr>\n      <th>3</th>\n      <td>M1G</td>\n      <td>43.770992</td>\n      <td>-79.216917</td>\n    </tr>\n    <tr>\n      <th>4</th>\n      <td>M1H</td>\n      <td>43.773136</td>\n      <td>-79.239476</td>\n    </tr>\n  </tbody>\n</table>\n</div>", 
                        "text/plain": "  PostalCode   Latitude  Longitude\n0        M1B  43.806686 -79.194353\n1        M1C  43.784535 -79.160497\n2        M1E  43.763573 -79.188711\n3        M1G  43.770992 -79.216917\n4        M1H  43.773136 -79.239476"
                    }, 
                    "output_type": "execute_result"
                }
            ], 
            "source": "df3.head()"
        }, 
        {
            "execution_count": 63, 
            "cell_type": "code", 
            "metadata": {}, 
            "outputs": [
                {
                    "execution_count": 63, 
                    "metadata": {}, 
                    "data": {
                        "text/html": "<div>\n<style scoped>\n    .dataframe tbody tr th:only-of-type {\n        vertical-align: middle;\n    }\n\n    .dataframe tbody tr th {\n        vertical-align: top;\n    }\n\n    .dataframe thead th {\n        text-align: right;\n    }\n</style>\n<table border=\"1\" class=\"dataframe\">\n  <thead>\n    <tr style=\"text-align: right;\">\n      <th></th>\n      <th>PostalCode</th>\n      <th>Latitude</th>\n      <th>Longitude</th>\n    </tr>\n    <tr>\n      <th>PostalCode</th>\n      <th></th>\n      <th></th>\n      <th></th>\n    </tr>\n  </thead>\n  <tbody>\n    <tr>\n      <th>M1B</th>\n      <td>M1B</td>\n      <td>43.806686</td>\n      <td>-79.194353</td>\n    </tr>\n    <tr>\n      <th>M1C</th>\n      <td>M1C</td>\n      <td>43.784535</td>\n      <td>-79.160497</td>\n    </tr>\n    <tr>\n      <th>M1E</th>\n      <td>M1E</td>\n      <td>43.763573</td>\n      <td>-79.188711</td>\n    </tr>\n    <tr>\n      <th>M1G</th>\n      <td>M1G</td>\n      <td>43.770992</td>\n      <td>-79.216917</td>\n    </tr>\n    <tr>\n      <th>M1H</th>\n      <td>M1H</td>\n      <td>43.773136</td>\n      <td>-79.239476</td>\n    </tr>\n    <tr>\n      <th>M1J</th>\n      <td>M1J</td>\n      <td>43.744734</td>\n      <td>-79.239476</td>\n    </tr>\n    <tr>\n      <th>M1K</th>\n      <td>M1K</td>\n      <td>43.727929</td>\n      <td>-79.262029</td>\n    </tr>\n    <tr>\n      <th>M1L</th>\n      <td>M1L</td>\n      <td>43.711112</td>\n      <td>-79.284577</td>\n    </tr>\n    <tr>\n      <th>M1M</th>\n      <td>M1M</td>\n      <td>43.716316</td>\n      <td>-79.239476</td>\n    </tr>\n    <tr>\n      <th>M1N</th>\n      <td>M1N</td>\n      <td>43.692657</td>\n      <td>-79.264848</td>\n    </tr>\n  </tbody>\n</table>\n</div>", 
                        "text/plain": "           PostalCode   Latitude  Longitude\nPostalCode                                 \nM1B               M1B  43.806686 -79.194353\nM1C               M1C  43.784535 -79.160497\nM1E               M1E  43.763573 -79.188711\nM1G               M1G  43.770992 -79.216917\nM1H               M1H  43.773136 -79.239476\nM1J               M1J  43.744734 -79.239476\nM1K               M1K  43.727929 -79.262029\nM1L               M1L  43.711112 -79.284577\nM1M               M1M  43.716316 -79.239476\nM1N               M1N  43.692657 -79.264848"
                    }, 
                    "output_type": "execute_result"
                }
            ], 
            "source": "df4 = df3.set_index(df3['PostalCode'], drop=True)\ndf4.head(10)"
        }, 
        {
            "execution_count": 64, 
            "cell_type": "code", 
            "metadata": {}, 
            "outputs": [], 
            "source": "df5 = pd.merge(df2, df4, right_index=True, left_index=True)"
        }, 
        {
            "execution_count": 68, 
            "cell_type": "code", 
            "metadata": {}, 
            "outputs": [
                {
                    "execution_count": 68, 
                    "metadata": {}, 
                    "data": {
                        "text/html": "<div>\n<style scoped>\n    .dataframe tbody tr th:only-of-type {\n        vertical-align: middle;\n    }\n\n    .dataframe tbody tr th {\n        vertical-align: top;\n    }\n\n    .dataframe thead th {\n        text-align: right;\n    }\n</style>\n<table border=\"1\" class=\"dataframe\">\n  <thead>\n    <tr style=\"text-align: right;\">\n      <th></th>\n      <th>Borough</th>\n      <th>Neighborhood</th>\n      <th>Latitude</th>\n      <th>Longitude</th>\n    </tr>\n    <tr>\n      <th>PostalCode</th>\n      <th></th>\n      <th></th>\n      <th></th>\n      <th></th>\n    </tr>\n  </thead>\n  <tbody>\n    <tr>\n      <th>M1B</th>\n      <td>Scarborough</td>\n      <td>Rouge,Malvern</td>\n      <td>43.806686</td>\n      <td>-79.194353</td>\n    </tr>\n    <tr>\n      <th>M1C</th>\n      <td>Scarborough</td>\n      <td>Port Union,Rouge Hill,Highland Creek</td>\n      <td>43.784535</td>\n      <td>-79.160497</td>\n    </tr>\n    <tr>\n      <th>M1E</th>\n      <td>Scarborough</td>\n      <td>West Hill,Guildwood,Morningside</td>\n      <td>43.763573</td>\n      <td>-79.188711</td>\n    </tr>\n    <tr>\n      <th>M1G</th>\n      <td>Scarborough</td>\n      <td>Woburn</td>\n      <td>43.770992</td>\n      <td>-79.216917</td>\n    </tr>\n    <tr>\n      <th>M1H</th>\n      <td>Scarborough</td>\n      <td>Cedarbrae</td>\n      <td>43.773136</td>\n      <td>-79.239476</td>\n    </tr>\n    <tr>\n      <th>M1J</th>\n      <td>Scarborough</td>\n      <td>Scarborough Village</td>\n      <td>43.744734</td>\n      <td>-79.239476</td>\n    </tr>\n    <tr>\n      <th>M1K</th>\n      <td>Scarborough</td>\n      <td>Ionview,East Birchmount Park,Kennedy Park</td>\n      <td>43.727929</td>\n      <td>-79.262029</td>\n    </tr>\n    <tr>\n      <th>M1L</th>\n      <td>Scarborough</td>\n      <td>Clairlea,Golden Mile,Oakridge</td>\n      <td>43.711112</td>\n      <td>-79.284577</td>\n    </tr>\n    <tr>\n      <th>M1M</th>\n      <td>Scarborough</td>\n      <td>Cliffside,Cliffcrest,Scarborough Village West</td>\n      <td>43.716316</td>\n      <td>-79.239476</td>\n    </tr>\n    <tr>\n      <th>M1N</th>\n      <td>Scarborough</td>\n      <td>Birch Cliff,Cliffside West</td>\n      <td>43.692657</td>\n      <td>-79.264848</td>\n    </tr>\n    <tr>\n      <th>M1P</th>\n      <td>Scarborough</td>\n      <td>Dorset Park,Wexford Heights,Scarborough Town C...</td>\n      <td>43.757410</td>\n      <td>-79.273304</td>\n    </tr>\n    <tr>\n      <th>M1R</th>\n      <td>Scarborough</td>\n      <td>Wexford,Maryvale</td>\n      <td>43.750072</td>\n      <td>-79.295849</td>\n    </tr>\n    <tr>\n      <th>M1S</th>\n      <td>Scarborough</td>\n      <td>Agincourt</td>\n      <td>43.794200</td>\n      <td>-79.262029</td>\n    </tr>\n    <tr>\n      <th>M1T</th>\n      <td>Scarborough</td>\n      <td>Tam O'Shanter,Sullivan,Clarks Corners</td>\n      <td>43.781638</td>\n      <td>-79.304302</td>\n    </tr>\n    <tr>\n      <th>M1V</th>\n      <td>Scarborough</td>\n      <td>Milliken,L'Amoreaux East,Agincourt North,Steel...</td>\n      <td>43.815252</td>\n      <td>-79.284577</td>\n    </tr>\n    <tr>\n      <th>M1W</th>\n      <td>Scarborough</td>\n      <td>L'Amoreaux West</td>\n      <td>43.799525</td>\n      <td>-79.318389</td>\n    </tr>\n    <tr>\n      <th>M1X</th>\n      <td>Scarborough</td>\n      <td>Upper Rouge</td>\n      <td>43.836125</td>\n      <td>-79.205636</td>\n    </tr>\n    <tr>\n      <th>M2H</th>\n      <td>North York</td>\n      <td>Hillcrest Village</td>\n      <td>43.803762</td>\n      <td>-79.363452</td>\n    </tr>\n    <tr>\n      <th>M2J</th>\n      <td>North York</td>\n      <td>Henry Farm,Oriole,Fairview</td>\n      <td>43.778517</td>\n      <td>-79.346556</td>\n    </tr>\n    <tr>\n      <th>M2K</th>\n      <td>North York</td>\n      <td>Bayview Village</td>\n      <td>43.786947</td>\n      <td>-79.385975</td>\n    </tr>\n  </tbody>\n</table>\n</div>", 
                        "text/plain": "                Borough                                       Neighborhood  \\\nPostalCode                                                                   \nM1B         Scarborough                                      Rouge,Malvern   \nM1C         Scarborough               Port Union,Rouge Hill,Highland Creek   \nM1E         Scarborough                    West Hill,Guildwood,Morningside   \nM1G         Scarborough                                             Woburn   \nM1H         Scarborough                                          Cedarbrae   \nM1J         Scarborough                                Scarborough Village   \nM1K         Scarborough          Ionview,East Birchmount Park,Kennedy Park   \nM1L         Scarborough                      Clairlea,Golden Mile,Oakridge   \nM1M         Scarborough      Cliffside,Cliffcrest,Scarborough Village West   \nM1N         Scarborough                         Birch Cliff,Cliffside West   \nM1P         Scarborough  Dorset Park,Wexford Heights,Scarborough Town C...   \nM1R         Scarborough                                   Wexford,Maryvale   \nM1S         Scarborough                                          Agincourt   \nM1T         Scarborough              Tam O'Shanter,Sullivan,Clarks Corners   \nM1V         Scarborough  Milliken,L'Amoreaux East,Agincourt North,Steel...   \nM1W         Scarborough                                    L'Amoreaux West   \nM1X         Scarborough                                        Upper Rouge   \nM2H          North York                                  Hillcrest Village   \nM2J          North York                         Henry Farm,Oriole,Fairview   \nM2K          North York                                    Bayview Village   \n\n             Latitude  Longitude  \nPostalCode                        \nM1B         43.806686 -79.194353  \nM1C         43.784535 -79.160497  \nM1E         43.763573 -79.188711  \nM1G         43.770992 -79.216917  \nM1H         43.773136 -79.239476  \nM1J         43.744734 -79.239476  \nM1K         43.727929 -79.262029  \nM1L         43.711112 -79.284577  \nM1M         43.716316 -79.239476  \nM1N         43.692657 -79.264848  \nM1P         43.757410 -79.273304  \nM1R         43.750072 -79.295849  \nM1S         43.794200 -79.262029  \nM1T         43.781638 -79.304302  \nM1V         43.815252 -79.284577  \nM1W         43.799525 -79.318389  \nM1X         43.836125 -79.205636  \nM2H         43.803762 -79.363452  \nM2J         43.778517 -79.346556  \nM2K         43.786947 -79.385975  "
                    }, 
                    "output_type": "execute_result"
                }
            ], 
            "source": "df6=df5.drop('PostalCode', axis=1)\ndf6.head(20)"
        }, 
        {
            "source": "Now, let's explore the data", 
            "cell_type": "markdown", 
            "metadata": {}
        }, 
        {
            "execution_count": 73, 
            "cell_type": "code", 
            "metadata": {}, 
            "outputs": [], 
            "source": "from sklearn.cluster import DBSCAN\nimport sklearn.utils\nfrom sklearn.preprocessing import StandardScaler\nsklearn.utils.check_random_state(1000)\nClus_dataSet = df6[['Latitude','Longitude']]\nClus_dataSet = np.nan_to_num(Clus_dataSet)\nClus_dataSet = StandardScaler().fit_transform(Clus_dataSet)\n\n# DBSCAN\ndb = DBSCAN(eps=0.15, min_samples=10).fit(Clus_dataSet)\ncore_samples_mask = np.zeros_like(db.labels_, dtype=bool)\ncore_samples_mask[db.core_sample_indices_] = True\nlabels = db.labels_\ndf6[\"Clus_Db\"]=labels\n\nrealClusterNum=len(set(labels)) - (1 if -1 in labels else 0)\nclusterNum = len(set(labels)) "
        }, 
        {
            "execution_count": 80, 
            "cell_type": "code", 
            "metadata": {}, 
            "outputs": [
                {
                    "execution_count": 80, 
                    "metadata": {}, 
                    "data": {
                        "text/html": "<div>\n<style scoped>\n    .dataframe tbody tr th:only-of-type {\n        vertical-align: middle;\n    }\n\n    .dataframe tbody tr th {\n        vertical-align: top;\n    }\n\n    .dataframe thead th {\n        text-align: right;\n    }\n</style>\n<table border=\"1\" class=\"dataframe\">\n  <thead>\n    <tr style=\"text-align: right;\">\n      <th></th>\n      <th>Latitude</th>\n      <th>Longitude</th>\n      <th>Clus_Db</th>\n    </tr>\n  </thead>\n  <tbody>\n    <tr>\n      <th>count</th>\n      <td>103.000000</td>\n      <td>103.000000</td>\n      <td>103.0</td>\n    </tr>\n    <tr>\n      <th>mean</th>\n      <td>43.704608</td>\n      <td>-79.397153</td>\n      <td>-1.0</td>\n    </tr>\n    <tr>\n      <th>std</th>\n      <td>0.052463</td>\n      <td>0.097146</td>\n      <td>0.0</td>\n    </tr>\n    <tr>\n      <th>min</th>\n      <td>43.602414</td>\n      <td>-79.615819</td>\n      <td>-1.0</td>\n    </tr>\n    <tr>\n      <th>25%</th>\n      <td>43.660567</td>\n      <td>-79.464763</td>\n      <td>-1.0</td>\n    </tr>\n    <tr>\n      <th>50%</th>\n      <td>43.696948</td>\n      <td>-79.388790</td>\n      <td>-1.0</td>\n    </tr>\n    <tr>\n      <th>75%</th>\n      <td>43.745320</td>\n      <td>-79.340923</td>\n      <td>-1.0</td>\n    </tr>\n    <tr>\n      <th>max</th>\n      <td>43.836125</td>\n      <td>-79.160497</td>\n      <td>-1.0</td>\n    </tr>\n  </tbody>\n</table>\n</div>", 
                        "text/plain": "         Latitude   Longitude  Clus_Db\ncount  103.000000  103.000000    103.0\nmean    43.704608  -79.397153     -1.0\nstd      0.052463    0.097146      0.0\nmin     43.602414  -79.615819     -1.0\n25%     43.660567  -79.464763     -1.0\n50%     43.696948  -79.388790     -1.0\n75%     43.745320  -79.340923     -1.0\nmax     43.836125  -79.160497     -1.0"
                    }, 
                    "output_type": "execute_result"
                }
            ], 
            "source": "df6.describe()"
        }, 
        {
            "execution_count": 81, 
            "cell_type": "code", 
            "metadata": {}, 
            "outputs": [
                {
                    "execution_count": 81, 
                    "metadata": {}, 
                    "data": {
                        "text/plain": "(103, 5)"
                    }, 
                    "output_type": "execute_result"
                }
            ], 
            "source": "df6.shape"
        }, 
        {
            "execution_count": 85, 
            "cell_type": "code", 
            "metadata": {}, 
            "outputs": [
                {
                    "execution_count": 85, 
                    "metadata": {}, 
                    "data": {
                        "text/plain": "<bound method hist_frame of                      Borough  \\\nPostalCode                     \nM1B              Scarborough   \nM1C              Scarborough   \nM1E              Scarborough   \nM1G              Scarborough   \nM1H              Scarborough   \nM1J              Scarborough   \nM1K              Scarborough   \nM1L              Scarborough   \nM1M              Scarborough   \nM1N              Scarborough   \nM1P              Scarborough   \nM1R              Scarborough   \nM1S              Scarborough   \nM1T              Scarborough   \nM1V              Scarborough   \nM1W              Scarborough   \nM1X              Scarborough   \nM2H               North York   \nM2J               North York   \nM2K               North York   \nM2L               North York   \nM2M               North York   \nM2N               North York   \nM2P               North York   \nM2R               North York   \nM3A               North York   \nM3B               North York   \nM3C               North York   \nM3H               North York   \nM3J               North York   \n...                      ...   \nM6C                     York   \nM6E                     York   \nM6G         Downtown Toronto   \nM6H             West Toronto   \nM6J             West Toronto   \nM6K             West Toronto   \nM6L               North York   \nM6M                     York   \nM6N                     York   \nM6P             West Toronto   \nM6R             West Toronto   \nM6S             West Toronto   \nM7A             Queen's Park   \nM7R              Mississauga   \nM7Y             East Toronto   \nM8V                Etobicoke   \nM8W                Etobicoke   \nM8X                Etobicoke   \nM8Y                Etobicoke   \nM8Z                Etobicoke   \nM9A                Etobicoke   \nM9B                Etobicoke   \nM9C                Etobicoke   \nM9L               North York   \nM9M               North York   \nM9N                     York   \nM9P                Etobicoke   \nM9R                Etobicoke   \nM9V                Etobicoke   \nM9W                Etobicoke   \n\n                                                 Neighborhood   Latitude  \\\nPostalCode                                                                 \nM1B                                             Rouge,Malvern  43.806686   \nM1C                      Port Union,Rouge Hill,Highland Creek  43.784535   \nM1E                           West Hill,Guildwood,Morningside  43.763573   \nM1G                                                    Woburn  43.770992   \nM1H                                                 Cedarbrae  43.773136   \nM1J                                       Scarborough Village  43.744734   \nM1K                 Ionview,East Birchmount Park,Kennedy Park  43.727929   \nM1L                             Clairlea,Golden Mile,Oakridge  43.711112   \nM1M             Cliffside,Cliffcrest,Scarborough Village West  43.716316   \nM1N                                Birch Cliff,Cliffside West  43.692657   \nM1P         Dorset Park,Wexford Heights,Scarborough Town C...  43.757410   \nM1R                                          Wexford,Maryvale  43.750072   \nM1S                                                 Agincourt  43.794200   \nM1T                     Tam O'Shanter,Sullivan,Clarks Corners  43.781638   \nM1V         Milliken,L'Amoreaux East,Agincourt North,Steel...  43.815252   \nM1W                                           L'Amoreaux West  43.799525   \nM1X                                               Upper Rouge  43.836125   \nM2H                                         Hillcrest Village  43.803762   \nM2J                                Henry Farm,Oriole,Fairview  43.778517   \nM2K                                           Bayview Village  43.786947   \nM2L                                   Silver Hills,York Mills  43.757490   \nM2M                                    Newtonbrook,Willowdale  43.789053   \nM2N                                          Willowdale South  43.770120   \nM2P                                           York Mills West  43.752758   \nM2R                                           Willowdale West  43.782736   \nM3A                                                 Parkwoods  43.753259   \nM3B                                           Don Mills North  43.745906   \nM3C                           Flemingdon Park,Don Mills South  43.725900   \nM3H             Bathurst Manor,Downsview North,Wilson Heights  43.754328   \nM3J                            Northwood Park,York University  43.767980   \n...                                                       ...        ...   \nM6C                                        Humewood-Cedarvale  43.693781   \nM6E                                       Caledonia-Fairbanks  43.689026   \nM6G                                                  Christie  43.669542   \nM6H                               Dovercourt Village,Dufferin  43.669005   \nM6J                                   Little Portugal,Trinity  43.647927   \nM6K                Parkdale Village,Exhibition Place,Brockton  43.636847   \nM6L                          Downsview,North Park,Upwood Park  43.713756   \nM6M               Keelesdale,Del Ray,Mount Dennis,Silverthorn  43.691116   \nM6N                              Runnymede,The Junction North  43.673185   \nM6P                              The Junction South,High Park  43.661608   \nM6R                                     Roncesvalles,Parkdale  43.648960   \nM6S                                         Runnymede,Swansea  43.651571   \nM7A                                              Queen's Park  43.662301   \nM7R                     Canada Post Gateway Processing Centre  43.636966   \nM7Y         Business Reply Mail Processing Centre 969 Eastern  43.662744   \nM8V                Mimico South,New Toronto,Humber Bay Shores  43.605647   \nM8W                                     Long Branch,Alderwood  43.602414   \nM8X               Montgomery Road,Old Mill North,The Kingsway  43.653654   \nM8Y         Mimico NE,Humber Bay,The Queensway East,Kingsw...  43.636258   \nM8Z         The Queensway West,Royal York South West,South...  43.628841   \nM9A                                          Islington Avenue  43.667856   \nM9B         Princess Gardens,Islington,West Deane Park,Clo...  43.650943   \nM9C         Markland Wood,Old Burnhamthorpe,Bloordale Gard...  43.643515   \nM9L                                             Humber Summit  43.756303   \nM9M                                           Humberlea,Emery  43.724766   \nM9N                                                    Weston  43.706876   \nM9P                                                 Westmount  43.696319   \nM9R         Kingsview Village,St. Phillips,Martin Grove Ga...  43.688905   \nM9V         Albion Gardens,Silverstone,Humbergate,Mount Ol...  43.739416   \nM9W                                                 Northwest  43.706748   \n\n            Longitude  Clus_Db  \nPostalCode                      \nM1B        -79.194353       -1  \nM1C        -79.160497       -1  \nM1E        -79.188711       -1  \nM1G        -79.216917       -1  \nM1H        -79.239476       -1  \nM1J        -79.239476       -1  \nM1K        -79.262029       -1  \nM1L        -79.284577       -1  \nM1M        -79.239476       -1  \nM1N        -79.264848       -1  \nM1P        -79.273304       -1  \nM1R        -79.295849       -1  \nM1S        -79.262029       -1  \nM1T        -79.304302       -1  \nM1V        -79.284577       -1  \nM1W        -79.318389       -1  \nM1X        -79.205636       -1  \nM2H        -79.363452       -1  \nM2J        -79.346556       -1  \nM2K        -79.385975       -1  \nM2L        -79.374714       -1  \nM2M        -79.408493       -1  \nM2N        -79.408493       -1  \nM2P        -79.400049       -1  \nM2R        -79.442259       -1  \nM3A        -79.329656       -1  \nM3B        -79.352188       -1  \nM3C        -79.340923       -1  \nM3H        -79.442259       -1  \nM3J        -79.487262       -1  \n...               ...      ...  \nM6C        -79.428191       -1  \nM6E        -79.453512       -1  \nM6G        -79.422564       -1  \nM6H        -79.442259       -1  \nM6J        -79.419750       -1  \nM6K        -79.428191       -1  \nM6L        -79.490074       -1  \nM6M        -79.476013       -1  \nM6N        -79.487262       -1  \nM6P        -79.464763       -1  \nM6R        -79.456325       -1  \nM6S        -79.484450       -1  \nM7A        -79.389494       -1  \nM7R        -79.615819       -1  \nM7Y        -79.321558       -1  \nM8V        -79.501321       -1  \nM8W        -79.543484       -1  \nM8X        -79.506944       -1  \nM8Y        -79.498509       -1  \nM8Z        -79.520999       -1  \nM9A        -79.532242       -1  \nM9B        -79.554724       -1  \nM9C        -79.577201       -1  \nM9L        -79.565963       -1  \nM9M        -79.532242       -1  \nM9N        -79.518188       -1  \nM9P        -79.532242       -1  \nM9R        -79.554724       -1  \nM9V        -79.588437       -1  \nM9W        -79.594054       -1  \n\n[103 rows x 5 columns]>"
                    }, 
                    "output_type": "execute_result"
                }
            ], 
            "source": "df6.hist\n"
        }, 
        {
            "execution_count": null, 
            "cell_type": "code", 
            "metadata": {}, 
            "outputs": [], 
            "source": ""
        }
    ], 
    "metadata": {
        "kernelspec": {
            "display_name": "Python 3.5", 
            "name": "python3", 
            "language": "python"
        }, 
        "language_info": {
            "mimetype": "text/x-python", 
            "nbconvert_exporter": "python", 
            "version": "3.5.5", 
            "name": "python", 
            "file_extension": ".py", 
            "pygments_lexer": "ipython3", 
            "codemirror_mode": {
                "version": 3, 
                "name": "ipython"
            }
        }
    }, 
    "nbformat": 4
}